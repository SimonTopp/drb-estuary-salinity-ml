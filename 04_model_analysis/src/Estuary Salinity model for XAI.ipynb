{
 "cells": [
  {
   "cell_type": "code",
   "execution_count": 46,
   "id": "bab237b3",
   "metadata": {},
   "outputs": [],
   "source": [
    "import matplotlib.pyplot as plt\n",
    "import numpy as np\n",
    "import os\n",
    "os.chdir(\"C:\\\\Users\\\\ggorski\\\\OneDrive - DOI\\\\USGS_ML\\\\Estuary Salinity\\\\github\\\\drb-estuary-salinity-ml\")\n",
    "import pandas as pd\n",
    "import pickle\n",
    "from LSTMDA_torch import LSTMDA, fit_torch_model, rmse_masked\n",
    "import seaborn as sns\n",
    "import sys\n",
    "sys.path.append('03b_model/src')\n",
    "import torch\n",
    "import run_model\n",
    "import yaml\n"
   ]
  },
  {
   "cell_type": "code",
   "execution_count": 49,
   "id": "5f6292db",
   "metadata": {},
   "outputs": [],
   "source": [
    "#read prepped data in\n",
    "prepped_model_io_data_file = '04_model_analysis/out/prepped_model_io_data'\n",
    "with open(prepped_model_io_data_file, 'rb') as f:\n",
    "    prepped_model_io_data = pickle.load(f)"
   ]
  },
  {
   "cell_type": "code",
   "execution_count": 51,
   "id": "7936c3eb",
   "metadata": {},
   "outputs": [],
   "source": [
    "#set parameters using config file\n",
    "with open(\"04_model_analysis/model_config.yaml\", 'r') as stream:\n",
    "    config = yaml.safe_load(stream)\n",
    "\n",
    "#x variables\n",
    "inputs = config['inputs']\n",
    "#model target\n",
    "target = config['target']\n",
    "\n",
    "#other params from config file\n",
    "seq_len = config['seq_len']\n",
    "offset = config['offset']\n",
    "n_epochs = config['n_epochs']\n",
    "hidden_units = config['hidden_units']\n",
    "learn_rate = config['learn_rate']\n",
    "recur_dropout = config['recur_dropout']\n",
    "dropout = config['dropout']\n",
    "\n",
    "n_batch, seq_len, n_feat  = prepped_model_io_data['trainval_features'].shape"
   ]
  },
  {
   "cell_type": "code",
   "execution_count": 52,
   "id": "41481c69",
   "metadata": {},
   "outputs": [
    {
     "data": {
      "text/plain": [
       "torch.Size([20, 180, 10])"
      ]
     },
     "execution_count": 52,
     "metadata": {},
     "output_type": "execute_result"
    }
   ],
   "source": [
    "prepped_model_io_data['train_features'].shape\n"
   ]
  },
  {
   "cell_type": "code",
   "execution_count": 53,
   "id": "87a73af5",
   "metadata": {},
   "outputs": [],
   "source": [
    "pretrain_model = LSTMDA(n_feat, hidden_units, recur_dropout, dropout)\n",
    "\n",
    "pretrain_model.load_state_dict(torch.load('04_model_analysis/out/Run_XAI_test_01/weights.pt')) # ensure that dropout layers are active\n",
    "\n",
    "y_pred, _ = pretrain_model(prepped_model_io_data['trainval_features'])"
   ]
  },
  {
   "cell_type": "code",
   "execution_count": 54,
   "id": "62624293",
   "metadata": {},
   "outputs": [
    {
     "data": {
      "text/plain": [
       "LSTMDA(\n",
       "  (dropout): Dropout(p=0.1, inplace=False)\n",
       "  (recur_dropout): Dropout(p=0.0, inplace=False)\n",
       "  (dense): Linear(in_features=10, out_features=1, bias=True)\n",
       ")"
      ]
     },
     "execution_count": 54,
     "metadata": {},
     "output_type": "execute_result"
    }
   ],
   "source": [
    "pretrain_model"
   ]
  },
  {
   "cell_type": "code",
   "execution_count": null,
   "id": "3c554c1a",
   "metadata": {},
   "outputs": [],
   "source": []
  }
 ],
 "metadata": {
  "kernelspec": {
   "display_name": "Python 3 (ipykernel)",
   "language": "python",
   "name": "python3"
  },
  "language_info": {
   "codemirror_mode": {
    "name": "ipython",
    "version": 3
   },
   "file_extension": ".py",
   "mimetype": "text/x-python",
   "name": "python",
   "nbconvert_exporter": "python",
   "pygments_lexer": "ipython3",
   "version": "3.8.13"
  }
 },
 "nbformat": 4,
 "nbformat_minor": 5
}
